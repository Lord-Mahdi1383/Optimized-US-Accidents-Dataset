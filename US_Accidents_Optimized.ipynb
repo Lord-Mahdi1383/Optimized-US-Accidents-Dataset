{
  "cells": [
    {
      "cell_type": "code",
      "execution_count": null,
      "metadata": {
        "id": "HyqDgAoHN0JY"
      },
      "outputs": [],
      "source": [
        "from google.colab import files"
      ]
    },
    {
      "cell_type": "code",
      "execution_count": null,
      "metadata": {
        "id": "SWzh1hsIMSb8"
      },
      "outputs": [],
      "source": [
        "!mkdir ~/.kaggle\n",
        "!cp kaggle.json ~/.kaggle/\n",
        "!chmod 600 ~/.kaggle/kaggle.json"
      ]
    },
    {
      "cell_type": "code",
      "execution_count": null,
      "metadata": {
        "colab": {
          "base_uri": "https://localhost:8080/"
        },
        "id": "UBJKp7SGMdFi",
        "outputId": "0cb7704c-3fe3-4484-cf25-f45f5b108e99",
        "collapsed": true
      },
      "outputs": [
        {
          "output_type": "stream",
          "name": "stdout",
          "text": [
            "Dataset URL: https://www.kaggle.com/datasets/sobhanmoosavi/us-accidents\n",
            "License(s): CC-BY-NC-SA-4.0\n",
            "Downloading us-accidents.zip to /content\n",
            " 96% 629M/653M [00:06<00:00, 44.7MB/s]\n",
            "100% 653M/653M [00:06<00:00, 101MB/s] \n"
          ]
        }
      ],
      "source": [
        "!kaggle datasets download -d sobhanmoosavi/us-accidents"
      ]
    },
    {
      "cell_type": "code",
      "execution_count": null,
      "metadata": {
        "colab": {
          "base_uri": "https://localhost:8080/"
        },
        "id": "nPjjx8Z0Mc2I",
        "outputId": "e46d2926-a04a-40bd-e1db-82562fcc1181",
        "collapsed": true
      },
      "outputs": [
        {
          "output_type": "stream",
          "name": "stdout",
          "text": [
            "Archive:  us-accidents.zip\n",
            "  inflating: US_Accidents_March23.csv  \n"
          ]
        }
      ],
      "source": [
        "!unzip us-accidents.zip"
      ]
    },
    {
      "cell_type": "code",
      "execution_count": null,
      "metadata": {
        "colab": {
          "base_uri": "https://localhost:8080/"
        },
        "id": "6E_GyF9todwg",
        "outputId": "d23f9e16-5ce8-4205-c11c-bbcab6919644",
        "collapsed": true
      },
      "outputs": [
        {
          "output_type": "stream",
          "name": "stdout",
          "text": [
            "Cloning into 'rapidsai-csp-utils'...\n",
            "remote: Enumerating objects: 597, done.\u001b[K\n",
            "remote: Counting objects: 100% (163/163), done.\u001b[K\n",
            "remote: Compressing objects: 100% (81/81), done.\u001b[K\n",
            "remote: Total 597 (delta 128), reused 82 (delta 82), pack-reused 434 (from 3)\u001b[K\n",
            "Receiving objects: 100% (597/597), 196.59 KiB | 15.12 MiB/s, done.\n",
            "Resolving deltas: 100% (302/302), done.\n",
            "Installing RAPIDS remaining 25.04 libraries\n",
            "Using Python 3.11.13 environment at: /usr\n",
            "Resolved 175 packages in 12.10s\n",
            "Downloading libcuvs-cu12 (1.1GiB)\n",
            "Downloading rmm-cu12 (1.5MiB)\n",
            "Downloading ucx-py-cu12 (2.2MiB)\n",
            "Downloading librmm-cu12 (2.9MiB)\n",
            "Downloading libcuspatial-cu12 (31.1MiB)\n",
            "Downloading pylibcudf-cu12 (26.4MiB)\n",
            "Downloading nvidia-nvcomp-cu12 (44.1MiB)\n",
            "Downloading cucim-cu12 (5.6MiB)\n",
            "Downloading libcugraph-cu12 (1.4GiB)\n",
            "Downloading cuspatial-cu12 (4.1MiB)\n",
            "Downloading cuml-cu12 (9.4MiB)\n",
            "Downloading raft-dask-cu12 (274.9MiB)\n",
            "Downloading pylibcugraph-cu12 (2.0MiB)\n",
            "Downloading cuproj-cu12 (1.1MiB)\n",
            "Downloading libkvikio-cu12 (2.0MiB)\n",
            "Downloading libcuml-cu12 (404.9MiB)\n",
            "Downloading libraft-cu12 (20.8MiB)\n",
            "Downloading cugraph-cu12 (3.0MiB)\n",
            "Downloading bokeh (6.6MiB)\n",
            "Downloading dask (1.3MiB)\n",
            "Downloading shapely (2.4MiB)\n",
            "Downloading cudf-cu12 (1.7MiB)\n",
            "Downloading datashader (17.5MiB)\n",
            "Downloading libcudf-cu12 (538.8MiB)\n",
            "Downloading libcugraph-cu12 (1.4GiB)\n",
            "Downloading cucim-cu12 (5.6MiB)\n",
            "Downloading cuspatial-cu12 (4.1MiB)\n",
            "Downloading libcudf-cu12 (538.8MiB)\n",
            "Downloading libcuspatial-cu12 (31.1MiB)\n",
            "Downloading nvidia-nvcomp-cu12 (44.1MiB)\n",
            "Downloading cuproj-cu12 (1.1MiB)\n",
            "Downloading raft-dask-cu12 (274.9MiB)\n",
            "Downloading pylibcudf-cu12 (26.4MiB)\n",
            "Downloading ucx-py-cu12 (2.2MiB)\n",
            "Downloading cudf-cu12 (1.7MiB)\n",
            "Downloading rmm-cu12 (1.5MiB)\n",
            "Downloading libraft-cu12 (20.8MiB)\n",
            "Downloading pylibcugraph-cu12 (2.0MiB)\n",
            "Downloading cugraph-cu12 (3.0MiB)\n",
            "Downloading libkvikio-cu12 (2.0MiB)\n",
            "Downloading cuml-cu12 (9.4MiB)\n",
            "Downloading libcuvs-cu12 (1.1GiB)\n",
            "Downloading librmm-cu12 (2.9MiB)\n",
            " Downloaded cuproj-cu12\n",
            "Downloading libcuml-cu12 (404.9MiB)\n",
            " Downloaded pylibcugraph-cu12\n",
            " Downloaded shapely\n",
            " Downloaded cuspatial-cu12\n",
            " Downloaded cucim-cu12\n",
            " Downloaded dask\n",
            " Downloaded datashader\n",
            " Downloaded bokeh\n",
            " Downloaded rmm-cu12\n",
            " Downloaded libkvikio-cu12\n",
            " Downloaded cudf-cu12\n",
            " Downloaded ucx-py-cu12\n",
            " Downloaded cugraph-cu12\n",
            " Downloaded librmm-cu12\n",
            " Downloaded libcuspatial-cu12\n",
            " Downloaded cuml-cu12\n",
            " Downloaded libraft-cu12\n",
            " Downloaded pylibcudf-cu12\n",
            " Downloaded nvidia-nvcomp-cu12\n",
            " Downloaded raft-dask-cu12\n",
            " Downloaded libcuml-cu12\n",
            " Downloaded libcudf-cu12\n",
            " Downloaded libcuvs-cu12\n",
            " Downloaded libcugraph-cu12\n",
            "Prepared 54 packages in 1m 16s\n",
            "Uninstalled 30 packages in 1.11s\n",
            "Installed 54 packages in 835ms\n",
            " + arrow==1.3.0\n",
            " - bokeh==3.7.3\n",
            " + bokeh==3.6.3\n",
            " + cucim-cu12==25.4.0\n",
            " - cudf-cu12==25.6.0 (from https://pypi.nvidia.com/cudf-cu12/cudf_cu12-25.6.0-cp311-cp311-manylinux_2_24_x86_64.manylinux_2_28_x86_64.whl)\n",
            " + cudf-cu12==25.4.0\n",
            " + cugraph-cu12==25.4.1\n",
            " - cuml-cu12==25.6.0\n",
            " + cuml-cu12==25.4.0\n",
            " + cuproj-cu12==25.4.0\n",
            " + cuspatial-cu12==25.4.0\n",
            " - cuvs-cu12==25.6.1\n",
            " + cuvs-cu12==25.4.0\n",
            " + cuxfilter-cu12==25.4.0\n",
            " - dask==2025.5.0\n",
            " + dask==2025.2.0\n",
            " - dask-cuda==25.6.0\n",
            " + dask-cuda==25.4.0\n",
            " - dask-cudf-cu12==25.6.0\n",
            " + dask-cudf-cu12==25.4.0\n",
            " + datashader==0.18.2\n",
            " - distributed==2025.5.0\n",
            " + distributed==2025.2.0\n",
            " - distributed-ucxx-cu12==0.44.0\n",
            " + distributed-ucxx-cu12==0.43.0\n",
            " + fqdn==1.5.1\n",
            " + isoduration==20.11.0\n",
            " - jupyter-client==6.1.12\n",
            " + jupyter-client==8.6.3\n",
            " + jupyter-events==0.12.0\n",
            " - jupyter-server==1.16.0\n",
            " + jupyter-server==2.16.0\n",
            " + jupyter-server-proxy==4.4.0\n",
            " + jupyter-server-terminals==0.5.3\n",
            " + lark==1.2.2\n",
            " - libcudf-cu12==25.6.0 (from https://pypi.nvidia.com/libcudf-cu12/libcudf_cu12-25.6.0-py3-none-manylinux_2_28_x86_64.whl)\n",
            " + libcudf-cu12==25.4.0\n",
            " - libcugraph-cu12==25.6.0\n",
            " + libcugraph-cu12==25.4.1\n",
            " - libcuml-cu12==25.6.0\n",
            " + libcuml-cu12==25.4.0\n",
            " + libcuspatial-cu12==25.4.0\n",
            " - libcuvs-cu12==25.6.1\n",
            " + libcuvs-cu12==25.4.0\n",
            " - libkvikio-cu12==25.6.0\n",
            " + libkvikio-cu12==25.4.0\n",
            " - libraft-cu12==25.6.0\n",
            " + libraft-cu12==25.4.0\n",
            " - librmm-cu12==25.6.0\n",
            " + librmm-cu12==25.4.0\n",
            " - libucxx-cu12==0.44.0\n",
            " + libucxx-cu12==0.43.0\n",
            " - numba-cuda==0.11.0\n",
            " + numba-cuda==0.4.0\n",
            " + nvidia-nvcomp-cu12==4.2.0.11\n",
            " - nx-cugraph-cu12==25.6.0 (from https://pypi.nvidia.com/nx-cugraph-cu12/nx_cugraph_cu12-25.6.0-py3-none-any.whl)\n",
            " + nx-cugraph-cu12==25.4.0\n",
            " + overrides==7.7.0\n",
            " + pyct==0.5.0\n",
            " - pylibcudf-cu12==25.6.0 (from https://pypi.nvidia.com/pylibcudf-cu12/pylibcudf_cu12-25.6.0-cp311-cp311-manylinux_2_24_x86_64.manylinux_2_28_x86_64.whl)\n",
            " + pylibcudf-cu12==25.4.0\n",
            " - pylibcugraph-cu12==25.6.0\n",
            " + pylibcugraph-cu12==25.4.1\n",
            " - pylibraft-cu12==25.6.0\n",
            " + pylibraft-cu12==25.4.0\n",
            " + python-json-logger==3.3.0\n",
            " - raft-dask-cu12==25.6.0\n",
            " + raft-dask-cu12==25.4.0\n",
            " - rapids-dask-dependency==25.6.0\n",
            " + rapids-dask-dependency==25.4.0\n",
            " + rfc3339-validator==0.1.4\n",
            " + rfc3986-validator==0.1.1\n",
            " + rfc3987-syntax==1.1.0\n",
            " - rmm-cu12==25.6.0\n",
            " + rmm-cu12==25.4.0\n",
            " - shapely==2.1.1\n",
            " + shapely==2.0.7\n",
            " + simpervisor==1.0.0\n",
            " + types-python-dateutil==2.9.0.20250809\n",
            " - ucx-py-cu12==0.44.0\n",
            " + ucx-py-cu12==0.43.0\n",
            " - ucxx-cu12==0.44.0\n",
            " + ucxx-cu12==0.43.0\n",
            " + uri-template==1.3.0\n",
            "\n",
            "        ***********************************************************************\n",
            "        The pip install of RAPIDS is complete.\n",
            "\n",
            "        Please do not run any further installation from the conda based installation methods, as they may cause issues!\n",
            "\n",
            "        Please ensure that you're pulling from the git repo to remain updated with the latest working install scripts.\n",
            "\n",
            "        Troubleshooting:\n",
            "            - If there is an installation failure, please check back on RAPIDSAI owned templates/notebooks to see how to update your personal files.\n",
            "            - If an installation failure persists when using the latest script, please make an issue on https://github.com/rapidsai-community/rapidsai-csp-utils\n",
            "        ***********************************************************************\n",
            "        \n"
          ]
        }
      ],
      "source": [
        "!git clone https://github.com/rapidsai/rapidsai-csp-utils.git\n",
        "!python rapidsai-csp-utils/colab/pip-install.py"
      ]
    },
    {
      "cell_type": "code",
      "execution_count": null,
      "metadata": {
        "id": "ra5ZQf3WPNLU"
      },
      "outputs": [],
      "source": [
        "import cudf    # pandas\n",
        "import cupy    # numpy"
      ]
    },
    {
      "cell_type": "code",
      "execution_count": null,
      "metadata": {
        "colab": {
          "base_uri": "https://localhost:8080/"
        },
        "id": "R6ojSmplQcGy",
        "outputId": "919cedc7-c9c3-4848-a808-741177afd705"
      },
      "outputs": [
        {
          "output_type": "stream",
          "name": "stdout",
          "text": [
            "<class 'cudf.core.dataframe.DataFrame'>\n",
            "RangeIndex: 7728394 entries, 0 to 7728393\n",
            "Data columns (total 46 columns):\n",
            " #   Column                 Dtype\n",
            "---  ------                 -----\n",
            " 0   ID                     object\n",
            " 1   Source                 object\n",
            " 2   Severity               int64\n",
            " 3   Start_Time             object\n",
            " 4   End_Time               object\n",
            " 5   Start_Lat              float64\n",
            " 6   Start_Lng              float64\n",
            " 7   End_Lat                float64\n",
            " 8   End_Lng                float64\n",
            " 9   Distance(mi)           float64\n",
            " 10  Description            object\n",
            " 11  Street                 object\n",
            " 12  City                   object\n",
            " 13  County                 object\n",
            " 14  State                  object\n",
            " 15  Zipcode                object\n",
            " 16  Country                object\n",
            " 17  Timezone               object\n",
            " 18  Airport_Code           object\n",
            " 19  Weather_Timestamp      object\n",
            " 20  Temperature(F)         float64\n",
            " 21  Wind_Chill(F)          float64\n",
            " 22  Humidity(%)            float64\n",
            " 23  Pressure(in)           float64\n",
            " 24  Visibility(mi)         float64\n",
            " 25  Wind_Direction         object\n",
            " 26  Wind_Speed(mph)        float64\n",
            " 27  Precipitation(in)      float64\n",
            " 28  Weather_Condition      object\n",
            " 29  Amenity                bool\n",
            " 30  Bump                   bool\n",
            " 31  Crossing               bool\n",
            " 32  Give_Way               bool\n",
            " 33  Junction               bool\n",
            " 34  No_Exit                bool\n",
            " 35  Railway                bool\n",
            " 36  Roundabout             bool\n",
            " 37  Station                bool\n",
            " 38  Stop                   bool\n",
            " 39  Traffic_Calming        bool\n",
            " 40  Traffic_Signal         bool\n",
            " 41  Turning_Loop           bool\n",
            " 42  Sunrise_Sunset         object\n",
            " 43  Civil_Twilight         object\n",
            " 44  Nautical_Twilight      object\n",
            " 45  Astronomical_Twilight  object\n",
            "dtypes: bool(13), float64(12), int64(1), object(20)\n",
            "memory usage: 3.0+ GB\n"
          ]
        }
      ],
      "source": [
        "df = cudf.read_csv('/content/US_Accidents_March23.csv')\n",
        "df.info()"
      ]
    },
    {
      "cell_type": "code",
      "execution_count": null,
      "metadata": {
        "colab": {
          "base_uri": "https://localhost:8080/"
        },
        "id": "q00SrfGculUR",
        "outputId": "1cc54b5c-c9c3-4f05-f889-8899ebbcec3f"
      },
      "outputs": [
        {
          "output_type": "stream",
          "name": "stdout",
          "text": [
            "<class 'cudf.core.dataframe.DataFrame'>\n",
            "RangeIndex: 7728394 entries, 0 to 7728393\n",
            "Data columns (total 42 columns):\n",
            " #   Column                 Dtype\n",
            "---  ------                 -----\n",
            " 0   Source                 object\n",
            " 1   Severity               int64\n",
            " 2   Start_Time             object\n",
            " 3   End_Time               object\n",
            " 4   Start_Lat              float64\n",
            " 5   Start_Lng              float64\n",
            " 6   End_Lat                float64\n",
            " 7   End_Lng                float64\n",
            " 8   Distance(mi)           float64\n",
            " 9   Description            object\n",
            " 10  Street                 object\n",
            " 11  City                   object\n",
            " 12  State                  object\n",
            " 13  Country                object\n",
            " 14  Timezone               object\n",
            " 15  Weather_Timestamp      object\n",
            " 16  Temperature(F)         float64\n",
            " 17  Wind_Chill(F)          float64\n",
            " 18  Humidity(%)            float64\n",
            " 19  Pressure(in)           float64\n",
            " 20  Visibility(mi)         float64\n",
            " 21  Wind_Direction         object\n",
            " 22  Wind_Speed(mph)        float64\n",
            " 23  Precipitation(in)      float64\n",
            " 24  Weather_Condition      object\n",
            " 25  Amenity                bool\n",
            " 26  Bump                   bool\n",
            " 27  Crossing               bool\n",
            " 28  Give_Way               bool\n",
            " 29  Junction               bool\n",
            " 30  No_Exit                bool\n",
            " 31  Railway                bool\n",
            " 32  Roundabout             bool\n",
            " 33  Station                bool\n",
            " 34  Stop                   bool\n",
            " 35  Traffic_Calming        bool\n",
            " 36  Traffic_Signal         bool\n",
            " 37  Turning_Loop           bool\n",
            " 38  Sunrise_Sunset         object\n",
            " 39  Civil_Twilight         object\n",
            " 40  Nautical_Twilight      object\n",
            " 41  Astronomical_Twilight  object\n",
            "dtypes: bool(13), float64(12), int64(1), object(16)\n",
            "memory usage: 2.7+ GB\n"
          ]
        }
      ],
      "source": [
        "# dropping useless columns\n",
        "cols_to_drop = ['ID', 'Airport_Code', 'Zipcode', 'County']\n",
        "df.drop(columns=cols_to_drop, inplace=True)\n",
        "\n",
        "df.info()"
      ]
    },
    {
      "cell_type": "code",
      "execution_count": null,
      "metadata": {
        "colab": {
          "base_uri": "https://localhost:8080/"
        },
        "id": "7ayiXF87ulPQ",
        "outputId": "bcb375b8-0c7e-46f9-f075-c370786ac008"
      },
      "outputs": [
        {
          "output_type": "stream",
          "name": "stdout",
          "text": [
            "[1 2 3 4]\n",
            "<class 'cudf.core.dataframe.DataFrame'>\n",
            "RangeIndex: 7728394 entries, 0 to 7728393\n",
            "Data columns (total 42 columns):\n",
            " #   Column                 Dtype\n",
            "---  ------                 -----\n",
            " 0   Source                 object\n",
            " 1   Severity               uint8\n",
            " 2   Start_Time             object\n",
            " 3   End_Time               object\n",
            " 4   Start_Lat              float64\n",
            " 5   Start_Lng              float64\n",
            " 6   End_Lat                float64\n",
            " 7   End_Lng                float64\n",
            " 8   Distance(mi)           float64\n",
            " 9   Description            object\n",
            " 10  Street                 object\n",
            " 11  City                   object\n",
            " 12  State                  object\n",
            " 13  Country                object\n",
            " 14  Timezone               object\n",
            " 15  Weather_Timestamp      object\n",
            " 16  Temperature(F)         float64\n",
            " 17  Wind_Chill(F)          float64\n",
            " 18  Humidity(%)            float64\n",
            " 19  Pressure(in)           float64\n",
            " 20  Visibility(mi)         float64\n",
            " 21  Wind_Direction         object\n",
            " 22  Wind_Speed(mph)        float64\n",
            " 23  Precipitation(in)      float64\n",
            " 24  Weather_Condition      object\n",
            " 25  Amenity                bool\n",
            " 26  Bump                   bool\n",
            " 27  Crossing               bool\n",
            " 28  Give_Way               bool\n",
            " 29  Junction               bool\n",
            " 30  No_Exit                bool\n",
            " 31  Railway                bool\n",
            " 32  Roundabout             bool\n",
            " 33  Station                bool\n",
            " 34  Stop                   bool\n",
            " 35  Traffic_Calming        bool\n",
            " 36  Traffic_Signal         bool\n",
            " 37  Turning_Loop           bool\n",
            " 38  Sunrise_Sunset         object\n",
            " 39  Civil_Twilight         object\n",
            " 40  Nautical_Twilight      object\n",
            " 41  Astronomical_Twilight  object\n",
            "dtypes: bool(13), float64(12), object(16), uint8(1)\n",
            "memory usage: 2.7+ GB\n"
          ]
        }
      ],
      "source": [
        "print(cupy.unique(df.Severity))\n",
        "\n",
        "df['Severity'] = df['Severity'].astype('uint8')\n",
        "df.info()"
      ]
    },
    {
      "cell_type": "code",
      "execution_count": null,
      "metadata": {
        "colab": {
          "base_uri": "https://localhost:8080/"
        },
        "id": "fRuLDzLyulNG",
        "outputId": "61c421e5-42cb-4053-8e7c-2716139aab74"
      },
      "outputs": [
        {
          "output_type": "stream",
          "name": "stdout",
          "text": [
            "<class 'cudf.core.dataframe.DataFrame'>\n",
            "RangeIndex: 7728394 entries, 0 to 7728393\n",
            "Data columns (total 42 columns):\n",
            " #   Column                 Dtype\n",
            "---  ------                 -----\n",
            " 0   Source                 object\n",
            " 1   Severity               uint8\n",
            " 2   Start_Time             object\n",
            " 3   End_Time               object\n",
            " 4   Start_Lat              float32\n",
            " 5   Start_Lng              float32\n",
            " 6   End_Lat                float32\n",
            " 7   End_Lng                float32\n",
            " 8   Distance(mi)           float32\n",
            " 9   Description            object\n",
            " 10  Street                 object\n",
            " 11  City                   object\n",
            " 12  State                  object\n",
            " 13  Country                object\n",
            " 14  Timezone               object\n",
            " 15  Weather_Timestamp      object\n",
            " 16  Temperature(F)         float32\n",
            " 17  Wind_Chill(F)          float32\n",
            " 18  Humidity(%)            float32\n",
            " 19  Pressure(in)           float32\n",
            " 20  Visibility(mi)         float32\n",
            " 21  Wind_Direction         object\n",
            " 22  Wind_Speed(mph)        float32\n",
            " 23  Precipitation(in)      float32\n",
            " 24  Weather_Condition      object\n",
            " 25  Amenity                bool\n",
            " 26  Bump                   bool\n",
            " 27  Crossing               bool\n",
            " 28  Give_Way               bool\n",
            " 29  Junction               bool\n",
            " 30  No_Exit                bool\n",
            " 31  Railway                bool\n",
            " 32  Roundabout             bool\n",
            " 33  Station                bool\n",
            " 34  Stop                   bool\n",
            " 35  Traffic_Calming        bool\n",
            " 36  Traffic_Signal         bool\n",
            " 37  Turning_Loop           bool\n",
            " 38  Sunrise_Sunset         object\n",
            " 39  Civil_Twilight         object\n",
            " 40  Nautical_Twilight      object\n",
            " 41  Astronomical_Twilight  object\n",
            "dtypes: bool(13), float32(12), object(16), uint8(1)\n",
            "memory usage: 2.3+ GB\n"
          ]
        }
      ],
      "source": [
        "float_cols = df.select_dtypes(include='float64').columns\n",
        "df[float_cols] = df[float_cols].astype('float32')\n",
        "\n",
        "df.info()"
      ]
    },
    {
      "cell_type": "code",
      "execution_count": null,
      "metadata": {
        "colab": {
          "base_uri": "https://localhost:8080/"
        },
        "id": "NxeLd50uulKy",
        "outputId": "b2793474-94d9-474c-8e83-61d1a4311b5b"
      },
      "outputs": [
        {
          "output_type": "stream",
          "name": "stdout",
          "text": [
            "<class 'cudf.core.dataframe.DataFrame'>\n",
            "RangeIndex: 7728394 entries, 0 to 7728393\n",
            "Data columns (total 42 columns):\n",
            " #   Column                 Dtype\n",
            "---  ------                 -----\n",
            " 0   Source                 category\n",
            " 1   Severity               uint8\n",
            " 2   Start_Time             object\n",
            " 3   End_Time               object\n",
            " 4   Start_Lat              float32\n",
            " 5   Start_Lng              float32\n",
            " 6   End_Lat                float32\n",
            " 7   End_Lng                float32\n",
            " 8   Distance(mi)           float32\n",
            " 9   Description            object\n",
            " 10  Street                 object\n",
            " 11  City                   category\n",
            " 12  State                  category\n",
            " 13  Country                object\n",
            " 14  Timezone               category\n",
            " 15  Weather_Timestamp      object\n",
            " 16  Temperature(F)         float32\n",
            " 17  Wind_Chill(F)          float32\n",
            " 18  Humidity(%)            float32\n",
            " 19  Pressure(in)           float32\n",
            " 20  Visibility(mi)         float32\n",
            " 21  Wind_Direction         category\n",
            " 22  Wind_Speed(mph)        float32\n",
            " 23  Precipitation(in)      float32\n",
            " 24  Weather_Condition      category\n",
            " 25  Amenity                bool\n",
            " 26  Bump                   bool\n",
            " 27  Crossing               bool\n",
            " 28  Give_Way               bool\n",
            " 29  Junction               bool\n",
            " 30  No_Exit                bool\n",
            " 31  Railway                bool\n",
            " 32  Roundabout             bool\n",
            " 33  Station                bool\n",
            " 34  Stop                   bool\n",
            " 35  Traffic_Calming        bool\n",
            " 36  Traffic_Signal         bool\n",
            " 37  Turning_Loop           bool\n",
            " 38  Sunrise_Sunset         category\n",
            " 39  Civil_Twilight         category\n",
            " 40  Nautical_Twilight      category\n",
            " 41  Astronomical_Twilight  category\n",
            "dtypes: bool(13), category(10), float32(12), object(6), uint8(1)\n",
            "memory usage: 1.7+ GB\n"
          ]
        }
      ],
      "source": [
        "category_cols = ['Source', 'City', 'State', 'Timezone',\n",
        "                 'Wind_Direction', 'Weather_Condition', 'Sunrise_Sunset',\n",
        "                 'Civil_Twilight', 'Nautical_Twilight', 'Astronomical_Twilight']\n",
        "\n",
        "for col in category_cols:\n",
        "  df[col] = df[col].astype('category')\n",
        "\n",
        "\n",
        "df.info()"
      ]
    }
  ],
  "metadata": {
    "accelerator": "GPU",
    "colab": {
      "gpuType": "T4",
      "provenance": []
    },
    "kernelspec": {
      "display_name": "Python 3",
      "name": "python3"
    },
    "language_info": {
      "name": "python"
    }
  },
  "nbformat": 4,
  "nbformat_minor": 0
}